{
 "cells": [
  {
   "cell_type": "markdown",
   "id": "75ef059b-8286-4efc-b1a4-052e3b7cb68c",
   "metadata": {},
   "source": [
    "# Workflow prototype: EITI API CSV dump to Datasette\n",
    "\n",
    "Our goal is to prototype a workflow that would allow us to go from the provided CSV, which contains 42K lines of company, agency and project data, to a SQLITE database. The database can then be imported into Datasette to generate a web interface enabling data exploration as well as API endpoints.\n",
    "\n",
    "Only minimal data cleaning will be included in this prototype workflow, as the aim is to demonstrate the validity of the process."
   ]
  },
  {
   "cell_type": "markdown",
   "id": "dc78ac58-347f-4ab9-88b5-33983f0cf43b",
   "metadata": {},
   "source": [
    "## Section 1: Importing the CSV\n",
    "\n",
    "Loading the CSV and giving it a quick look"
   ]
  },
  {
   "cell_type": "code",
   "execution_count": 1,
   "id": "7917d14f-6824-4cb2-a6ff-846f0d2e89b2",
   "metadata": {},
   "outputs": [],
   "source": [
    "# we first import pandas and sqlite_utils, which allow us to process the CSV data then import it into the database.\n",
    "# we also import sqlite3 to test some queries on the created database directly from python\n",
    "\n",
    "import pandas as pd\n",
    "import sqlite_utils\n",
    "import sqlite3"
   ]
  },
  {
   "cell_type": "code",
   "execution_count": null,
   "id": "740c937b-09a0-4ee5-9513-86ca8e1ef0d7",
   "metadata": {},
   "outputs": [],
   "source": [
    "# we load the CSV and display a random sample of the lines for a first visual check\n",
    "\n",
    "url = \"https://raw.githubusercontent.com/clombion/eiti-ose-demo/main/eiti-api-dump.csv\"\n",
    "df = pd.read_csv(url)\n",
    "df.sample(n=5)"
   ]
  },
  {
   "cell_type": "code",
   "execution_count": 3,
   "id": "dcb4b3d2-9847-4eaa-9fd1-100a987bd5ed",
   "metadata": {
    "scrolled": true
   },
   "outputs": [
    {
     "data": {
      "text/plain": [
       "id                                      int64\n",
       "label                                  object\n",
       "self                                   object\n",
       "type                                   object\n",
       "identification                         object\n",
       "sector                                 object\n",
       "commodities                           float64\n",
       "agency_type                            object\n",
       "company_type                           object\n",
       "stock_exchange_listing                 object\n",
       "audited_financial_state                object\n",
       "project_legal_agreement                object\n",
       "project_affiliated_companies_start     object\n",
       "project_commodities                    object\n",
       "project_status                         object\n",
       "project_production_volume             float64\n",
       "project_unit                           object\n",
       "project_production                     object\n",
       "project_currency                      float64\n",
       "summary_data.label                     object\n",
       "summary_data.iso2                      object\n",
       "summary_data.year                     float64\n",
       "dtype: object"
      ]
     },
     "execution_count": 3,
     "metadata": {},
     "output_type": "execute_result"
    }
   ],
   "source": [
    "# a second check, this time of the columns and the data types as guessed by pandas\n",
    "\n",
    "df.dtypes"
   ]
  },
  {
   "cell_type": "markdown",
   "id": "61895ac9-0e6f-4d6f-84ed-6da5d370a303",
   "metadata": {},
   "source": [
    "## Section 2: separating the different types of data\n",
    "\n",
    "The CSV contains company, agency and project data. To make the final database more efficient, we need to split them into their own table"
   ]
  },
  {
   "cell_type": "code",
   "execution_count": 4,
   "id": "c3abbc61-dc7d-4491-87cb-12df603735a7",
   "metadata": {},
   "outputs": [],
   "source": [
    "# we create three different dataframes, each of them differentiated thanks to the 'type' column.\n",
    "\n",
    "df_company = df[df['type'] == 'company']\n",
    "df_agency = df[df['type'] == 'agency']\n",
    "df_project = df[df['type'] == 'project']\n",
    "\n",
    "# for each of the created dataframe, we remove any column that is fully blank, allowing us to keep only the relevant columns\n",
    "\n",
    "df_company = df_company.dropna(how='all', axis=1)\n",
    "df_agency = df_agency.dropna(how='all', axis=1)\n",
    "df_project = df_project.dropna(how='all', axis=1)"
   ]
  },
  {
   "cell_type": "markdown",
   "id": "2397f923-10bd-4e27-b956-f326913cd640",
   "metadata": {},
   "source": [
    "Let's visualise the three created datasets while adjusting the datatype of the columns"
   ]
  },
  {
   "cell_type": "code",
   "execution_count": 5,
   "id": "8f7362e6-4284-4004-88a8-a9555223ecce",
   "metadata": {},
   "outputs": [
    {
     "data": {
      "text/plain": [
       "id                           int64\n",
       "label                       object\n",
       "self                        object\n",
       "type                        object\n",
       "identification              object\n",
       "sector                      object\n",
       "company_type                object\n",
       "stock_exchange_listing      object\n",
       "audited_financial_state     object\n",
       "summary_data.label          object\n",
       "summary_data.iso2           object\n",
       "summary_data.year          float64\n",
       "dtype: object"
      ]
     },
     "execution_count": 5,
     "metadata": {},
     "output_type": "execute_result"
    }
   ],
   "source": [
    "# we adjust the datatype of the company dataset to reflect the actual nature of the values\n",
    "\n",
    "df_company = df_company.astype(str)\n",
    "df_company['id'] = pd.to_numeric(df_company['id'], errors='coerce') #to_numeric is used because astype(str) fails if there are null values\n",
    "df_company['summary_data.year'] = pd.to_numeric(df_company['summary_data.year'], errors='coerce')\n",
    "\n",
    "# we display both the final list of columns and their datatypes\n",
    "\n",
    "df_company.dtypes"
   ]
  },
  {
   "cell_type": "code",
   "execution_count": 6,
   "id": "1cecde13-8eb2-4a96-9d29-2632d119e953",
   "metadata": {},
   "outputs": [
    {
     "data": {
      "text/plain": [
       "id                      int64\n",
       "label                  object\n",
       "self                   object\n",
       "type                   object\n",
       "identification         object\n",
       "agency_type            object\n",
       "summary_data.label     object\n",
       "summary_data.iso2      object\n",
       "summary_data.year     float64\n",
       "dtype: object"
      ]
     },
     "execution_count": 6,
     "metadata": {},
     "output_type": "execute_result"
    }
   ],
   "source": [
    "# we adjust the datatype of the agency dataset to reflect the actual nature of the values\n",
    "\n",
    "df_agency = df_agency.astype(str)\n",
    "df_agency['id'] = pd.to_numeric(df_agency['id'], errors='coerce') \n",
    "df_agency['summary_data.year'] = pd.to_numeric(df_agency['summary_data.year'], errors='coerce')\n",
    "\n",
    "# we display both the final list of columns and their datatypes\n",
    "\n",
    "df_agency.dtypes"
   ]
  },
  {
   "cell_type": "code",
   "execution_count": 7,
   "id": "291d10d1-807d-434d-9e13-337440f4e4e4",
   "metadata": {},
   "outputs": [
    {
     "data": {
      "text/plain": [
       "id                                      int64\n",
       "label                                  object\n",
       "self                                   object\n",
       "type                                   object\n",
       "project_legal_agreement                object\n",
       "project_affiliated_companies_start     object\n",
       "project_commodities                    object\n",
       "project_status                         object\n",
       "project_production_volume              object\n",
       "project_unit                           object\n",
       "project_production                     object\n",
       "summary_data.label                     object\n",
       "summary_data.iso2                      object\n",
       "summary_data.year                     float64\n",
       "dtype: object"
      ]
     },
     "execution_count": 7,
     "metadata": {},
     "output_type": "execute_result"
    }
   ],
   "source": [
    "# we adjust the datatype of the project dataset to reflect the actual nature of the values\n",
    "\n",
    "df_project = df_project.astype(str)\n",
    "df_project['id'] = pd.to_numeric(df_project['id'], errors='coerce')\n",
    "df_project['summary_data.year'] = pd.to_numeric(df_project['summary_data.year'], errors='coerce')\n",
    "\n",
    "# we display both the final list of columns and their datatypes\n",
    "\n",
    "df_project.dtypes"
   ]
  },
  {
   "cell_type": "markdown",
   "id": "04b22c13-bfd7-4940-96eb-7f562dd08ebe",
   "metadata": {},
   "source": [
    "## Section 3: creating the database\n",
    "\n",
    "We now use sqlite_utils to create our database. "
   ]
  },
  {
   "cell_type": "code",
   "execution_count": 8,
   "id": "556ac9a5-5291-404a-9b39-4ddb4fdfa644",
   "metadata": {},
   "outputs": [
    {
     "data": {
      "text/plain": [
       "<Table projects (id, label, self, type, project_legal_agreement, project_affiliated_companies_start, project_commodities, project_status, project_production_volume, project_unit, project_production, summary_data.label, summary_data.iso2, summary_data.year)>"
      ]
     },
     "execution_count": 8,
     "metadata": {},
     "output_type": "execute_result"
    }
   ],
   "source": [
    "# create the database\n",
    "\n",
    "db = sqlite_utils.Database('eiti_data.db')\n",
    "\n",
    "# insert cleaned data into the SQLite database\n",
    "\n",
    "db[\"companies\"].insert_all(df_company.to_dict('records'))\n",
    "db[\"agencies\"].insert_all(df_agency.to_dict('records'))\n",
    "db[\"projects\"].insert_all(df_project.to_dict('records'))"
   ]
  },
  {
   "cell_type": "code",
   "execution_count": 9,
   "id": "7a9ceeb0-fcda-45f6-a948-f951665a42d0",
   "metadata": {
    "scrolled": true
   },
   "outputs": [
    {
     "name": "stdout",
     "output_type": "stream",
     "text": [
      "Schema of companies:\n",
      "CREATE TABLE [companies] (\n",
      "   [id] INTEGER,\n",
      "   [label] TEXT,\n",
      "   [self] TEXT,\n",
      "   [type] TEXT,\n",
      "   [identification] TEXT,\n",
      "   [sector] TEXT,\n",
      "   [company_type] TEXT,\n",
      "   [stock_exchange_listing] TEXT,\n",
      "   [audited_financial_state] TEXT,\n",
      "   [summary_data.label] TEXT,\n",
      "   [summary_data.iso2] TEXT,\n",
      "   [summary_data.year] FLOAT\n",
      ") \n",
      "\n",
      "Schema of agencies:\n",
      "CREATE TABLE [agencies] (\n",
      "   [id] INTEGER,\n",
      "   [label] TEXT,\n",
      "   [self] TEXT,\n",
      "   [type] TEXT,\n",
      "   [identification] TEXT,\n",
      "   [agency_type] TEXT,\n",
      "   [summary_data.label] TEXT,\n",
      "   [summary_data.iso2] TEXT,\n",
      "   [summary_data.year] FLOAT\n",
      ") \n",
      "\n",
      "Schema of projects:\n",
      "CREATE TABLE [projects] (\n",
      "   [id] INTEGER,\n",
      "   [label] TEXT,\n",
      "   [self] TEXT,\n",
      "   [type] TEXT,\n",
      "   [project_legal_agreement] TEXT,\n",
      "   [project_affiliated_companies_start] TEXT,\n",
      "   [project_commodities] TEXT,\n",
      "   [project_status] TEXT,\n",
      "   [project_production_volume] TEXT,\n",
      "   [project_unit] TEXT,\n",
      "   [project_production] TEXT,\n",
      "   [summary_data.label] TEXT,\n",
      "   [summary_data.iso2] TEXT,\n",
      "   [summary_data.year] FLOAT\n",
      ") \n",
      "\n"
     ]
    }
   ],
   "source": [
    "# display schema of the database\n",
    "\n",
    "for table_name in db.table_names():\n",
    "    print(f\"Schema of {table_name}:\")\n",
    "    print(db[table_name].schema, \"\\n\")"
   ]
  },
  {
   "cell_type": "markdown",
   "id": "f44d8ceb-8724-4c22-a790-86f59577478b",
   "metadata": {},
   "source": [
    "## Section 4\n",
    "\n",
    "We will now test the creation of foreign keys in the 'projects' table based on company names. That requires a more complex process in order to create a junction table to represent the many to many relationships between companies and projects. "
   ]
  },
  {
   "cell_type": "code",
   "execution_count": 10,
   "id": "2bbbf27c-eccf-464d-a879-7cb93af10bcc",
   "metadata": {},
   "outputs": [
    {
     "data": {
      "text/plain": [
       "<Table project_companies (project_id, company_label)>"
      ]
     },
     "execution_count": 10,
     "metadata": {},
     "output_type": "execute_result"
    }
   ],
   "source": [
    "# Create a table 'project_companies'\n",
    "db[\"project_companies\"].create({\"project_id\": str, \"company_label\": str}, pk=(\"project_id\", \"company_label\"))"
   ]
  },
  {
   "cell_type": "code",
   "execution_count": 11,
   "id": "2b6c1e26-ab48-4531-8875-0749611f4f97",
   "metadata": {},
   "outputs": [],
   "source": [
    "# Populate the 'project_companies' table\n",
    "for index, row in df_project.iterrows():\n",
    "    # Split the affiliated company names\n",
    "    affiliated_companies = row['project_affiliated_companies_start'].split(',')\n",
    "    for company_name in affiliated_companies:\n",
    "        # Clean up the company name\n",
    "        company_name = company_name.strip()\n",
    "        # Try to insert the record, update if it already exists (in our case, it will just keep the values the same)\n",
    "        db[\"project_companies\"].upsert({\n",
    "            'project_id': row['id'],\n",
    "            'company_label': company_name  # Ensure no leading/trailing whitespace\n",
    "        }, pk=('project_id', 'company_label'))  # composite primary key\n"
   ]
  },
  {
   "cell_type": "code",
   "execution_count": 12,
   "id": "d1f9e532-96ac-4803-9227-ab9222c003b0",
   "metadata": {},
   "outputs": [
    {
     "name": "stdout",
     "output_type": "stream",
     "text": [
      "Schema of companies:\n",
      "CREATE TABLE [companies] (\n",
      "   [id] INTEGER,\n",
      "   [label] TEXT,\n",
      "   [self] TEXT,\n",
      "   [type] TEXT,\n",
      "   [identification] TEXT,\n",
      "   [sector] TEXT,\n",
      "   [company_type] TEXT,\n",
      "   [stock_exchange_listing] TEXT,\n",
      "   [audited_financial_state] TEXT,\n",
      "   [summary_data.label] TEXT,\n",
      "   [summary_data.iso2] TEXT,\n",
      "   [summary_data.year] FLOAT\n",
      ") \n",
      "\n",
      "Schema of agencies:\n",
      "CREATE TABLE [agencies] (\n",
      "   [id] INTEGER,\n",
      "   [label] TEXT,\n",
      "   [self] TEXT,\n",
      "   [type] TEXT,\n",
      "   [identification] TEXT,\n",
      "   [agency_type] TEXT,\n",
      "   [summary_data.label] TEXT,\n",
      "   [summary_data.iso2] TEXT,\n",
      "   [summary_data.year] FLOAT\n",
      ") \n",
      "\n",
      "Schema of projects:\n",
      "CREATE TABLE [projects] (\n",
      "   [id] INTEGER,\n",
      "   [label] TEXT,\n",
      "   [self] TEXT,\n",
      "   [type] TEXT,\n",
      "   [project_legal_agreement] TEXT,\n",
      "   [project_affiliated_companies_start] TEXT,\n",
      "   [project_commodities] TEXT,\n",
      "   [project_status] TEXT,\n",
      "   [project_production_volume] TEXT,\n",
      "   [project_unit] TEXT,\n",
      "   [project_production] TEXT,\n",
      "   [summary_data.label] TEXT,\n",
      "   [summary_data.iso2] TEXT,\n",
      "   [summary_data.year] FLOAT\n",
      ") \n",
      "\n",
      "Schema of project_companies:\n",
      "CREATE TABLE [project_companies] (\n",
      "   [project_id] TEXT,\n",
      "   [company_label] TEXT,\n",
      "   PRIMARY KEY ([project_id], [company_label])\n",
      ") \n",
      "\n"
     ]
    }
   ],
   "source": [
    "# display schema of the database\n",
    "\n",
    "for table_name in db.table_names():\n",
    "    print(f\"Schema of {table_name}:\")\n",
    "    print(db[table_name].schema, \"\\n\")"
   ]
  },
  {
   "cell_type": "code",
   "execution_count": 13,
   "id": "e57fe084-66a1-4f5c-b981-7ecd2422d692",
   "metadata": {},
   "outputs": [],
   "source": [
    "\n",
    "\n",
    "# Connect to the SQLite database\n",
    "conn = sqlite3.connect('eiti_data.db')\n",
    "\n",
    "# Create a cursor object\n",
    "c = conn.cursor()\n",
    "\n",
    "# Define the company name. The query is designed to allow substrings, instead of the exact match of the name, allowing subsidiaries to be included.\n",
    "company_name = \"TOTAL\"\n",
    "\n",
    "# Create the SQL query. \n",
    "sql = \"\"\"\n",
    "SELECT p.label, pc.company_label\n",
    "FROM projects p\n",
    "JOIN project_companies pc ON p.id = pc.project_id\n",
    "WHERE pc.company_label LIKE ?\n",
    "\"\"\"\n",
    "\n",
    "# Execute the SQL query\n",
    "c.execute(sql, ('%' + company_name + '%',))\n",
    "\n",
    "# Fetch all the records\n",
    "records = c.fetchall()\n",
    "\n",
    "# Close the connection\n",
    "conn.close()"
   ]
  },
  {
   "cell_type": "code",
   "execution_count": 14,
   "id": "6a5274bc-5385-49be-9d49-211fd6386367",
   "metadata": {},
   "outputs": [
    {
     "data": {
      "text/html": [
       "<div>\n",
       "<style scoped>\n",
       "    .dataframe tbody tr th:only-of-type {\n",
       "        vertical-align: middle;\n",
       "    }\n",
       "\n",
       "    .dataframe tbody tr th {\n",
       "        vertical-align: top;\n",
       "    }\n",
       "\n",
       "    .dataframe thead th {\n",
       "        text-align: right;\n",
       "    }\n",
       "</style>\n",
       "<table border=\"1\" class=\"dataframe\">\n",
       "  <thead>\n",
       "    <tr style=\"text-align: right;\">\n",
       "      <th></th>\n",
       "      <th>Company Name</th>\n",
       "      <th>Project Name</th>\n",
       "    </tr>\n",
       "  </thead>\n",
       "  <tbody>\n",
       "    <tr>\n",
       "      <th>8</th>\n",
       "      <td>TOTAL AUSTRAL SA</td>\n",
       "      <td>Aries</td>\n",
       "    </tr>\n",
       "    <tr>\n",
       "      <th>40</th>\n",
       "      <td>TOTALENERGIES E&amp;P UK LIMITED (00811900)</td>\n",
       "      <td>SERICA ENERGY (UK) LIMITED (04073712)</td>\n",
       "    </tr>\n",
       "    <tr>\n",
       "      <th>69</th>\n",
       "      <td>Total E&amp;P Nederland</td>\n",
       "      <td>L1a</td>\n",
       "    </tr>\n",
       "    <tr>\n",
       "      <th>86</th>\n",
       "      <td>Total E&amp;P</td>\n",
       "      <td>Bloc Ta29</td>\n",
       "    </tr>\n",
       "    <tr>\n",
       "      <th>51</th>\n",
       "      <td>TOTALENERGIES E&amp;P UK LIMITED (00811900)</td>\n",
       "      <td>TOTALENERGIES E&amp;P UK LIMITED (00811900)</td>\n",
       "    </tr>\n",
       "    <tr>\n",
       "      <th>7</th>\n",
       "      <td>TOTAL AUSTRAL SA</td>\n",
       "      <td>Carina</td>\n",
       "    </tr>\n",
       "    <tr>\n",
       "      <th>27</th>\n",
       "      <td>TOTALENERGIES E&amp;P UK LIMITED (00811900)</td>\n",
       "      <td>TOTALENERGIES E&amp;P UK LIMITED (00811900)</td>\n",
       "    </tr>\n",
       "    <tr>\n",
       "      <th>57</th>\n",
       "      <td>Total E&amp;P México</td>\n",
       "      <td>CNH‐R01‐L04‐A3.CS/2016</td>\n",
       "    </tr>\n",
       "    <tr>\n",
       "      <th>6</th>\n",
       "      <td>TOTAL AUSTRAL SA</td>\n",
       "      <td>Carina</td>\n",
       "    </tr>\n",
       "    <tr>\n",
       "      <th>19</th>\n",
       "      <td>Totally green Ltd</td>\n",
       "      <td>Deep Blue  Mine</td>\n",
       "    </tr>\n",
       "  </tbody>\n",
       "</table>\n",
       "</div>"
      ],
      "text/plain": [
       "                               Company Name   \n",
       "8                          TOTAL AUSTRAL SA  \\\n",
       "40  TOTALENERGIES E&P UK LIMITED (00811900)   \n",
       "69                      Total E&P Nederland   \n",
       "86                                Total E&P   \n",
       "51  TOTALENERGIES E&P UK LIMITED (00811900)   \n",
       "7                          TOTAL AUSTRAL SA   \n",
       "27  TOTALENERGIES E&P UK LIMITED (00811900)   \n",
       "57                         Total E&P México   \n",
       "6                          TOTAL AUSTRAL SA   \n",
       "19                        Totally green Ltd   \n",
       "\n",
       "                               Project Name  \n",
       "8                                     Aries  \n",
       "40    SERICA ENERGY (UK) LIMITED (04073712)  \n",
       "69                                      L1a  \n",
       "86                                Bloc Ta29  \n",
       "51  TOTALENERGIES E&P UK LIMITED (00811900)  \n",
       "7                                    Carina  \n",
       "27  TOTALENERGIES E&P UK LIMITED (00811900)  \n",
       "57                   CNH‐R01‐L04‐A3.CS/2016  \n",
       "6                                    Carina  \n",
       "19                          Deep Blue  Mine  "
      ]
     },
     "execution_count": 14,
     "metadata": {},
     "output_type": "execute_result"
    }
   ],
   "source": [
    "# test the result by printing a company and its related projects\n",
    "\n",
    "data = []\n",
    "\n",
    "for record in records:\n",
    "    project_name, company_name = record\n",
    "    data.append({'Company Name': company_name, 'Project Name': project_name})\n",
    "\n",
    "df_foreign_key_test = pd.DataFrame(data)\n",
    "df_foreign_key_test.sample(10)"
   ]
  },
  {
   "cell_type": "markdown",
   "id": "4142f2f1-6f72-442c-a088-dbd4da646b3a",
   "metadata": {},
   "source": [
    "## Run datasette using our database\n",
    "\n",
    "Datasette can be extensively customised, allowing the host to create custom API endpoints based on specific SQL queries. This means that the user stories that the EITI secretariat have defined for their stakeholders can be translated into specific SQL queries which can then be added to the parameters of datasette in order to set them as custom API endpoints.\n",
    "\n",
    "This is in addition of the user interface which allows non technical users to navigate, filter and export the data without making use of the API. This interface can be customised to match EITI's branding guideline."
   ]
  },
  {
   "cell_type": "code",
   "execution_count": 15,
   "id": "b0acba5b-347a-4e4e-8a7f-6b05b5f40c7d",
   "metadata": {},
   "outputs": [
    {
     "name": "stdout",
     "output_type": "stream",
     "text": [
      "\u001b[32mINFO\u001b[0m:     Started server process [\u001b[36m66312\u001b[0m]\n",
      "\u001b[32mINFO\u001b[0m:     Waiting for application startup.\n",
      "\u001b[32mINFO\u001b[0m:     Application startup complete.\n",
      "\u001b[32mINFO\u001b[0m:     Uvicorn running on \u001b[1mhttp://127.0.0.1:8001\u001b[0m (Press CTRL+C to quit)\n",
      "\u001b[32mINFO\u001b[0m:     127.0.0.1:54019 - \"\u001b[1mGET / HTTP/1.1\u001b[0m\" \u001b[32m200 OK\u001b[0m\n",
      "\u001b[32mINFO\u001b[0m:     127.0.0.1:54019 - \"\u001b[1mGET /-/static/app.css?d59929 HTTP/1.1\u001b[0m\" \u001b[32m200 OK\u001b[0m\n",
      "\u001b[32mINFO\u001b[0m:     127.0.0.1:54020 - \"\u001b[1mGET /eiti_data/companies HTTP/1.1\u001b[0m\" \u001b[32m200 OK\u001b[0m\n",
      "\u001b[32mINFO\u001b[0m:     127.0.0.1:54020 - \"\u001b[1mGET /-/static/app.css?d59929 HTTP/1.1\u001b[0m\" \u001b[32m200 OK\u001b[0m\n",
      "\u001b[32mINFO\u001b[0m:     127.0.0.1:54020 - \"\u001b[1mGET /-/static/table.js HTTP/1.1\u001b[0m\" \u001b[32m200 OK\u001b[0m\n",
      "^C\n",
      "\u001b[32mINFO\u001b[0m:     Shutting down\n",
      "\u001b[32mINFO\u001b[0m:     Waiting for application shutdown.\n",
      "\u001b[32mINFO\u001b[0m:     Application shutdown complete.\n",
      "\u001b[32mINFO\u001b[0m:     Finished server process [\u001b[36m66312\u001b[0m]\n"
     ]
    }
   ],
   "source": [
    "# we start datasette, which opens another page at http://127.0.0.1:8001 \n",
    "\n",
    "!datasette serve eiti_data.db --metadata metadata.json"
   ]
  }
 ],
 "metadata": {
  "kernelspec": {
   "display_name": "Python 3 (ipykernel)",
   "language": "python",
   "name": "python3"
  },
  "language_info": {
   "codemirror_mode": {
    "name": "ipython",
    "version": 3
   },
   "file_extension": ".py",
   "mimetype": "text/x-python",
   "name": "python",
   "nbconvert_exporter": "python",
   "pygments_lexer": "ipython3",
   "version": "3.11.4"
  }
 },
 "nbformat": 4,
 "nbformat_minor": 5
}

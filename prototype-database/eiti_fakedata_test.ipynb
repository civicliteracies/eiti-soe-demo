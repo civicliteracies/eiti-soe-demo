{
 "cells": [
  {
   "attachments": {},
   "cell_type": "markdown",
   "id": "85cd7485",
   "metadata": {},
   "source": [
    "We first import the libraries that we need."
   ]
  },
  {
   "cell_type": "code",
   "execution_count": 1,
   "id": "81d5c00b-b436-4d2a-bcbc-dc4d4207959e",
   "metadata": {},
   "outputs": [],
   "source": [
    "import sqlite3\n",
    "import pandas as pd\n",
    "from faker import Faker\n",
    "import random\n",
    "import string\n",
    "import uuid\n",
    "from collections import defaultdict"
   ]
  },
  {
   "attachments": {},
   "cell_type": "markdown",
   "id": "3bcd948d",
   "metadata": {},
   "source": [
    "We then set the parameters needed to generate the fake data"
   ]
  },
  {
   "cell_type": "code",
   "execution_count": 2,
   "id": "fdabbb50-4528-4c12-b094-2c8243f3621e",
   "metadata": {},
   "outputs": [],
   "source": [
    "# Set Faker seed for reproducibility\n",
    "fake = Faker()\n",
    "Faker.seed(4321)\n",
    "\n",
    "# Number of records to generate\n",
    "num_companies = 9000\n",
    "num_agencies = 1500\n",
    "num_projects = 11000\n",
    "num_revenues = 50000\n",
    "\n",
    "# List of EITI implementing countries\n",
    "country_labels = [\n",
    "    'Afghanistan', 'Albania', 'Angola', 'Argentina', 'Armenia', 'Burkina Faso', 'Cameroon',\n",
    "    'Central African Republic', 'Chad', 'Colombia', 'Côte d\\'Ivoire', 'Democratic Republic of the Congo',\n",
    "    'Dominican Republic', 'Ecuador', 'Ethiopia', 'Gabon', 'Germany', 'Ghana', 'Guatemala', 'Guinea',\n",
    "    'Guyana', 'Honduras', 'Indonesia', 'Iraq', 'Kazakhstan', 'Kyrgyz Republic', 'Liberia', 'Madagascar',\n",
    "    'Malawi', 'Mali', 'Mauritania', 'Mexico', 'Mongolia', 'Mozambique', 'Myanmar', 'Netherlands', 'Niger',\n",
    "    'Nigeria', 'Norway', 'Papua New Guinea', 'Peru', 'Philippines', 'Republic of the Congo', 'Senegal',\n",
    "    'Seychelles', 'Sierra Leone', 'Suriname', 'São Tomé and Príncipe', 'Tajikistan', 'Tanzania',\n",
    "    'Timor-Leste', 'Togo', 'Trinidad and Tobago', 'Uganda', 'Ukraine', 'United Kingdom', 'Zambia'\n",
    "]\n",
    "\n",
    "# List of ISO 3166-1 alpha-2 codes for EITI implementing countries\n",
    "countries = [\n",
    "    'AF', 'AL', 'AO', 'AR', 'AM', 'BF', 'CM', 'CF', 'TD', 'CO', 'CI', 'CD', 'DO', 'EC', 'ET', 'GA', 'DE', 'GH', 'GT', 'GN', 'GY', 'HN', 'ID',\n",
    "    'IQ', 'KZ', 'KG', 'LR', 'MG', 'MW', 'ML', 'MR', 'MX', 'MN', 'MZ', 'MM', 'NL', 'NE', 'NG', 'NO', 'PG', 'PE', 'PH', 'CG', 'SN', 'SC', 'SL',\n",
    "    'SR', 'ST', 'TJ', 'TZ', 'TL', 'TG', 'TT', 'UG', 'UA', 'GB', 'ZM'\n",
    "]\n",
    "\n",
    "# Company and agency types\n",
    "company_types = ['Private', 'Listed', 'Public corporations & state-owned entreprises', 'Other']\n",
    "agency_types = ['Local government', 'Central government', 'State government', 'Public corporations & state-owned entreprises', 'other']\n",
    "\n",
    "# Project statuses and units\n",
    "project_statuses = ['Production', 'Development', 'Exploration', 'Other', 'Not reported']\n",
    "project_units = ['tonnes', 'barrels', 'grams']\n",
    "\n",
    "# EITI contributing companies and small companies\n",
    "EITI_contrib_companies = ['Africa Oil Corp', 'Alcoa', 'AMG', 'Anglo American', 'AngloGold Ashanti', 'Arcelor Mittal', 'Barrick Gold', 'Base Titanium', 'BHP', 'BP', 'Capricorn Energy PLC', 'Centerra Gold', 'Chevron', 'Eni', 'Equinor', 'Eramet', 'ExxonMobil', 'Freeport-McMoRan', 'Glencore', 'Gold Fields', 'Gunvor Group', 'Hess Corporation', 'Inpex Corporation', 'Ivanhoe Mines', 'JX Nippon Mining & Metals', 'Kinross Gold', 'Kosmos Energy', 'Lundin Foundation', 'Minsur', 'MMG', 'Neptune Energy', 'Newcrest Mining', 'Newmont', 'NNPC', 'Orano Mining', 'Petronor E&P', 'Poderosa', 'Pt Pertamina', 'Qatar Energy', 'Repsol Group', 'Rio Tinto', 'Royal Dutch Shell', 'Santos Limited', 'Savannah Energy', 'Shell plc', 'Sibanye Stillwater', 'South 32', 'Southern Copper', 'St Barbara Limited', 'Staatsolie Maatschappij Suriname N.V.', 'Sumitomo Metal Mining', 'Teck', 'TotalEnergies SE', 'Trafigura', 'Tullow oil', 'Vale', 'Woodside']\n",
    "small_companies = ['ORYX ENERGIES', 'Petra Quarries Ltd', 'Platinum Asphalt & Crushing Company Limited', 'Mothercat Limited Nig. Ltd.', 'Moulds NIG. Ltd', 'MTP SA', 'Mufkad mines & Invest Ltd']\n",
    "\n",
    "# Possible commodities\n",
    "commodities = ['gold', 'silver', 'diamonds', 'oil', 'coal', 'iron', 'aluminium', 'copper', 'zinc', 'lead']\n",
    "\n",
    "# Stock exchanges\n",
    "stock_exchanges = ['NYSE', 'NASDAQ', 'LSE', 'Euronext', 'SSE', 'HKEX', 'TSX', 'SZSE', 'Deutsche Börse', 'ASX', 'JSE', 'BSE', 'NSE']\n",
    "\n",
    "# Sectors\n",
    "sectors = ['Oil and gas', 'Mining', 'Energy', 'Metals', 'Chemicals']\n",
    "\n",
    "# Agency names\n",
    "agency_names = [\"Oil Resource Management Agency\", \"Extractives Industry Regulation Directorate\", \"Land Management Office\", \"Ministry of Finances\", \"National Mining Agency\"]\n",
    "\n",
    "# revenue parameters\n",
    "revenue_streams = [\"PPT\", \"ROYALTY (OIL)\", \"EDUCATIONAL TAX\"]\n",
    "currencies = [\"USD\", \"EUR\", \"NGN\", \"GHS\"]"
   ]
  },
  {
   "attachments": {},
   "cell_type": "markdown",
   "id": "5cc094bc",
   "metadata": {},
   "source": [
    "The following is a function that generates synthetic data for the countries table"
   ]
  },
  {
   "cell_type": "code",
   "execution_count": 3,
   "id": "83ffede5-736f-459b-bd47-e771799c3ad3",
   "metadata": {},
   "outputs": [],
   "source": [
    "def generate_countries():\n",
    "    data = []\n",
    "\n",
    "    for id, (label, country_code) in enumerate(zip(country_labels, countries), start=1):\n",
    "        self = f'https://www.eiti.org/{country_code}'\n",
    "        type = 'country'\n",
    "        iso2 = country_code\n",
    "        join_date = '2015-01-01'\n",
    "        leave_date = None\n",
    "        local_website = f'https://eiti.org/countries/{country_code}'\n",
    "\n",
    "        data.append([id, label, self, type, iso2, join_date, leave_date, local_website])\n",
    "\n",
    "    return pd.DataFrame(data, columns=['id', 'label', 'self', 'type', 'iso2', 'join_date', 'leave_date', 'local_website'])\n",
    "\n",
    "# Generate countries data\n",
    "df_countries = generate_countries()"
   ]
  },
  {
   "attachments": {},
   "cell_type": "markdown",
   "id": "cad963f9",
   "metadata": {},
   "source": [
    "The following is a function that generates synthetic data for the companies table"
   ]
  },
  {
   "cell_type": "code",
   "execution_count": 4,
   "id": "ee0680d9-ac51-405d-865d-c53c53039c7c",
   "metadata": {},
   "outputs": [],
   "source": [
    "def generate_companies(num_companies):\n",
    "    data = []\n",
    "    generated_ids = set()\n",
    "\n",
    "    for _ in range(num_companies):\n",
    "        is_small_company = random.choice([True, False])\n",
    "\n",
    "        if is_small_company:\n",
    "            label = random.choice(small_companies)\n",
    "            country_code = random.choice(df_countries['iso2'])\n",
    "            id = '00000000000000000000-' + country_code + '-' + str(random.randint(100000,999999)) + '-1'\n",
    "        else:\n",
    "            label = random.choice(EITI_contrib_companies)\n",
    "            id = fake.bothify(text='????????????????????-##-######-#')\n",
    "\n",
    "        # Ensure uniqueness of id\n",
    "        while id in generated_ids:\n",
    "            if is_small_company:\n",
    "                id = '00000000000000000000-' + country_code + '-' + str(random.randint(100000,999999)) + '-1'\n",
    "            else:\n",
    "                id = fake.bothify(text='????????????????????-##-######-#')\n",
    "\n",
    "        generated_ids.add(id)\n",
    "        \n",
    "        self = 'https://www.eiti.org/' + id\n",
    "        company_type = random.choice(company_types)\n",
    "        sector = random.choice(sectors)\n",
    "        stock_exchange_listing = random.choice(stock_exchanges) if company_type == 'Listed' else None\n",
    "        audited_financial_state = 'https://www.eiti.org/financial_report/' + id\n",
    "        summary_iso2 = random.choice(df_countries['iso2'])\n",
    "        summary_year = random.randint(2017, 2021)\n",
    "        \n",
    "        data.append([id, label, self, 'company', id, sector, company_type, stock_exchange_listing, audited_financial_state, summary_iso2, summary_year])\n",
    "        \n",
    "    return pd.DataFrame(data, columns=['id', 'label', 'self', 'type', 'identification', 'sector', 'company_type', 'stock_exchange_listing', 'audited_financial_state', 'summary_data_iso2', 'summary_data_year'])\n",
    "\n",
    "# Generate companies data\n",
    "df_companies = generate_companies(num_companies)"
   ]
  },
  {
   "attachments": {},
   "cell_type": "markdown",
   "id": "2bdd47d6",
   "metadata": {},
   "source": [
    "The following is a function that generates synthetic data for the agencies table"
   ]
  },
  {
   "cell_type": "code",
   "execution_count": 5,
   "id": "b46639ae-a731-4810-96b5-3dea915d0280",
   "metadata": {},
   "outputs": [],
   "source": [
    "def generate_agencies(num_agencies):\n",
    "    data = []\n",
    "    counter_by_country = defaultdict(int)\n",
    "    \n",
    "    for _ in range(num_agencies):\n",
    "        country_code = random.choice(df_countries['iso2'])\n",
    "        agency_type = random.choice(['National', 'Local'])\n",
    "        \n",
    "        counter_by_country[(country_code, agency_type)] += 1\n",
    "        counter = counter_by_country[(country_code, agency_type)]\n",
    "        \n",
    "        self = f\"https://eiti.org/agency/{country_code}/{counter}\"\n",
    "        label = random.choice(agency_names)\n",
    "        summary_iso2 = random.choice(countries)\n",
    "        summary_year = random.randint(2017, 2021)\n",
    "        \n",
    "        # Making sure the ID is unique by using a counter\n",
    "        id = f\"{country_code}-{agency_type[0]}-{str(counter).zfill(6)}\"\n",
    "        \n",
    "        data.append([id, label, self, 'agency', id, agency_type, summary_iso2, summary_year])\n",
    "        \n",
    "    return pd.DataFrame(data, columns=['id', 'label', 'self', 'type', 'identification', 'agency_type', 'summary_data_iso2', 'summary_data_year'])\n",
    "\n",
    "# Generate agencies data\n",
    "df_agencies = generate_agencies(num_agencies)"
   ]
  },
  {
   "attachments": {},
   "cell_type": "markdown",
   "id": "5fbecc81",
   "metadata": {},
   "source": [
    "The following is a function that generates synthetic data for the projects table"
   ]
  },
  {
   "cell_type": "code",
   "execution_count": 6,
   "id": "4c46a516-8e4d-4434-84ee-539af3640bb1",
   "metadata": {},
   "outputs": [],
   "source": [
    "def generate_projects(num_projects):\n",
    "    data = []\n",
    "    \n",
    "    # Start a counter for project IDs\n",
    "    project_id_counter = 100000\n",
    "    \n",
    "    for _ in range(num_projects):\n",
    "        # Incrementally assign unique IDs\n",
    "        id = str(project_id_counter)\n",
    "        project_id_counter += 1\n",
    "        \n",
    "        label = random.choice(['Subsoil use special permit No.' + str(random.randint(1000,9999)), fake.bothify(text='???? Fields')])\n",
    "        self = 'https://www.eiti.org/' + id\n",
    "        project_legal_agreement = 'https://www.eiti.org/legal_agreement/' + id\n",
    "        project_affiliated_companies_start = ', '.join(random.sample(EITI_contrib_companies, k=random.randint(1,3)))\n",
    "        project_commodities = ', '.join(random.sample(commodities, k=random.randint(1,3)))\n",
    "        project_status = random.choice(project_statuses)\n",
    "        project_production_volume = str(random.randint(1000, 1000000))\n",
    "        project_unit = random.choice(project_units)\n",
    "        project_production = str(random.randint(1000, 1000000))\n",
    "        summary_iso2 = random.choice(countries)\n",
    "        summary_year = random.randint(2017, 2021)\n",
    "        \n",
    "        data.append([id, label, self, 'project', project_legal_agreement, project_affiliated_companies_start, project_commodities, project_status, project_production_volume, project_unit, project_production, summary_iso2, summary_year])\n",
    "        \n",
    "    return pd.DataFrame(data, columns=['id', 'label', 'self', 'type', 'project_legal_agreement', 'project_affiliated_companies_start', 'project_commodities', 'project_status', 'project_production_volume', 'project_unit', 'project_production', 'summary_data_iso2', 'summary_data_year'])\n",
    "\n",
    "# Generate projects data\n",
    "df_projects = generate_projects(num_projects)\n"
   ]
  },
  {
   "attachments": {},
   "cell_type": "markdown",
   "id": "e793d9ea",
   "metadata": {},
   "source": [
    "The following is a function that generates the values of the project_companies link table"
   ]
  },
  {
   "cell_type": "code",
   "execution_count": 7,
   "id": "4287e1cd-3647-4e0e-9357-50684154caf3",
   "metadata": {},
   "outputs": [],
   "source": [
    "def generate_project_companies(num_relations):\n",
    "    data = []\n",
    "    added_combinations = set()\n",
    "    \n",
    "    for _ in range(num_relations):\n",
    "        project_id = random.choice(df_projects['id'])\n",
    "        company_id = random.choice(df_companies['id'])\n",
    "\n",
    "        # Check if the combination is already in the set\n",
    "        while (project_id, company_id) in added_combinations:\n",
    "            project_id = random.choice(df_projects['id'])\n",
    "            company_id = random.choice(df_companies['id'])\n",
    "\n",
    "        # Add the combination to the set\n",
    "        added_combinations.add((project_id, company_id))\n",
    "        \n",
    "        data.append([project_id, company_id])\n",
    "        \n",
    "    return pd.DataFrame(data, columns=['project_id', 'company_id'])\n",
    "\n",
    "# Define the number of relations to generate\n",
    "num_relations = 15000\n",
    "\n",
    "# Generate project_companies data\n",
    "df_project_companies = generate_project_companies(num_relations)\n"
   ]
  },
  {
   "cell_type": "markdown",
   "id": "4f9ab395-6b0c-4e41-9615-33a9e81a1a68",
   "metadata": {},
   "source": [
    "The following is a function that generates synthetic data for the revenues table"
   ]
  },
  {
   "cell_type": "code",
   "execution_count": 8,
   "id": "11b6e43c",
   "metadata": {},
   "outputs": [],
   "source": [
    "# Extract the unique identifiers from the relevant DataFrames\n",
    "company_ids = df_companies['id'].tolist()\n",
    "agency_ids = df_agencies['id'].tolist()\n",
    "project_ids = df_projects['id'].tolist()\n",
    "\n",
    "def generate_revenue(num_revenues, company_id, agency_id, project_id):\n",
    "    data = []\n",
    "    \n",
    "    for _ in range(num_revenues):\n",
    "        revenue_id = uuid.uuid4().hex\n",
    "        country_iso2 = random.choice(countries)\n",
    "        year = random.randint(2017, 2021)\n",
    "        company_id = random.choice(company_ids)\n",
    "        revenue_stream = random.choice(revenue_streams)\n",
    "        agency_id = random.choice(agency_ids)\n",
    "        levied_by_project = random.choice(['Yes', 'No'])\n",
    "        reported_by_project = random.choice(['Yes', 'No'])\n",
    "        project_id = random.choice(project_ids)\n",
    "        original_value = random.uniform(1000, 1000000)\n",
    "        original_currency = random.choice(currencies)\n",
    "        revenues_USD = original_value * random.uniform(0.8, 1.2)\n",
    "        payment_in_kind = random.choice(['Yes', 'No'])\n",
    "        in_kind_volume = None if payment_in_kind == 'No' else random.uniform(1, 100)\n",
    "        in_kind_volume_unit = None if payment_in_kind == 'No' else 'Barrels'\n",
    "        comments = 'N/A'\n",
    "        gfs_code = str(random.randint(100, 999))\n",
    "        gfs_code2 = str(random.randint(100, 999))\n",
    "        \n",
    "        # Adding other GFS Levels\n",
    "        gfs_level_1 = \"Level 1\"\n",
    "        gfs_level_2 = \"Level 2\"\n",
    "        gfs_level_3 = \"Level 3\"\n",
    "        gfs_level_4 = \"Level 4\"\n",
    "        gfs_level_5 = \"Level 5\"\n",
    "        gfs_level_6 = \"Level 6\"\n",
    "\n",
    "        data.append([revenue_id, country_iso2, year, company_id, revenue_stream, agency_id, levied_by_project, reported_by_project, project_id, original_value, original_currency, revenues_USD, payment_in_kind, in_kind_volume, in_kind_volume_unit, comments, gfs_code, gfs_code2, gfs_level_1, gfs_level_2, gfs_level_3, gfs_level_4, gfs_level_5, gfs_level_6])\n",
    "\n",
    "    return pd.DataFrame(data, columns=['revenue_id', 'country_iso2', 'year', 'company_id', 'revenue_stream', 'agency_id', 'levied_by_project', 'reported_by_project', 'project_id', 'original_value', 'original_currency', 'revenues_USD', 'payment_in_kind', 'in_kind_volume', 'in_kind_volume_unit', 'comments', 'gfs_code', 'gfs_code2', 'gfs_level_1', 'gfs_level_2', 'gfs_level_3', 'gfs_level_4', 'gfs_level_5', 'gfs_level_6'])\n",
    "\n",
    "# Generate revenue data\n",
    "df_revenue = generate_revenue(num_revenues, company_ids, agency_ids, project_ids)\n"
   ]
  },
  {
   "attachments": {},
   "cell_type": "markdown",
   "id": "b508709a",
   "metadata": {},
   "source": [
    "We now connect create the SQLITE database"
   ]
  },
  {
   "cell_type": "code",
   "execution_count": 9,
   "id": "57c2343d-638e-4f8a-8a4f-bf79514417d7",
   "metadata": {},
   "outputs": [
    {
     "data": {
      "text/plain": [
       "<sqlite3.Cursor at 0x11e439e40>"
      ]
     },
     "execution_count": 9,
     "metadata": {},
     "output_type": "execute_result"
    }
   ],
   "source": [
    "# Connect to SQLite database (it will be created if it doesn't exist)\n",
    "conn = sqlite3.connect('EITI_Database.db')\n",
    "\n",
    "# Create a cursor object to interact with the database\n",
    "cursor = conn.cursor()\n",
    "\n",
    "# Enable foreign key support\n",
    "cursor.execute(\"PRAGMA foreign_keys = ON;\")"
   ]
  },
  {
   "attachments": {},
   "cell_type": "markdown",
   "id": "6bc6840b",
   "metadata": {},
   "source": [
    "We're now going to create and add the countries table as well as insert the data into it to ensure that other tables can respect the foreign key constraints. "
   ]
  },
  {
   "cell_type": "code",
   "execution_count": 10,
   "id": "d8ad0075-1480-4271-8df1-d78fee41dd72",
   "metadata": {},
   "outputs": [
    {
     "data": {
      "text/plain": [
       "57"
      ]
     },
     "execution_count": 10,
     "metadata": {},
     "output_type": "execute_result"
    }
   ],
   "source": [
    "# Create the countries table\n",
    "cursor.execute('''\n",
    "CREATE TABLE IF NOT EXISTS countries (\n",
    "    id INTEGER PRIMARY KEY,\n",
    "    label TEXT,\n",
    "    self TEXT,\n",
    "    type TEXT,\n",
    "    iso2 TEXT UNIQUE,\n",
    "    join_date TEXT,\n",
    "    leave_date TEXT,\n",
    "    local_website TEXT\n",
    ");\n",
    "''')\n",
    "\n",
    "# Committing to the database to validate foreign key constraints\n",
    "conn.commit()\n",
    "\n",
    "# Insert countries data into the countries table\n",
    "df_countries.to_sql('countries', con=conn, if_exists='append', index=False)"
   ]
  },
  {
   "cell_type": "markdown",
   "id": "09581fe8-6873-4623-945e-76c9305865bb",
   "metadata": {},
   "source": [
    "create and add the other tables"
   ]
  },
  {
   "cell_type": "code",
   "execution_count": 11,
   "id": "abd9059a-094b-4b18-a0cf-f35ccdf46aba",
   "metadata": {},
   "outputs": [],
   "source": [
    "# Create the companies table\n",
    "cursor.execute('''\n",
    "CREATE TABLE IF NOT EXISTS companies (\n",
    "    id TEXT PRIMARY KEY,\n",
    "    label TEXT,\n",
    "    self TEXT,\n",
    "    type TEXT,\n",
    "    identification TEXT,\n",
    "    sector TEXT,\n",
    "    company_type TEXT,\n",
    "    stock_exchange_listing TEXT,\n",
    "    audited_financial_state TEXT,\n",
    "    summary_data_iso2 TEXT REFERENCES countries(iso2),\n",
    "    summary_data_year TEXT\n",
    ")\n",
    "''')\n",
    "\n",
    "# Create the agencies table\n",
    "cursor.execute('''\n",
    "CREATE TABLE IF NOT EXISTS agencies (\n",
    "    id TEXT PRIMARY KEY,\n",
    "    label TEXT,\n",
    "    self TEXT,\n",
    "    type TEXT,\n",
    "    identification TEXT,\n",
    "    agency_type TEXT,\n",
    "    summary_data_iso2 TEXT REFERENCES countries(iso2),\n",
    "    summary_data_year TEXT\n",
    ")\n",
    "''')\n",
    "\n",
    "# Create the projects table\n",
    "cursor.execute('''\n",
    "CREATE TABLE IF NOT EXISTS projects (\n",
    "    id TEXT PRIMARY KEY,\n",
    "    label TEXT,\n",
    "    self TEXT,\n",
    "    type TEXT,\n",
    "    project_legal_agreement TEXT,\n",
    "    project_affiliated_companies_start TEXT,\n",
    "    project_commodities TEXT,\n",
    "    project_status TEXT,\n",
    "    project_production_volume TEXT,\n",
    "    project_unit TEXT,\n",
    "    project_production TEXT,\n",
    "    summary_data_iso2 TEXT REFERENCES countries(iso2),\n",
    "    summary_data_year TEXT\n",
    ")\n",
    "''')\n",
    "\n",
    "# Create the project_companies table\n",
    "cursor.execute('''\n",
    "CREATE TABLE IF NOT EXISTS project_companies (\n",
    "    project_id TEXT REFERENCES projects(id),\n",
    "    company_id TEXT REFERENCES companies(id),\n",
    "    PRIMARY KEY (project_id, company_id)\n",
    ")\n",
    "''')\n",
    "\n",
    "# Create the revenue table               \n",
    "cursor.execute('''\n",
    "CREATE TABLE IF NOT EXISTS revenue (\n",
    "    revenue_id TEXT PRIMARY KEY,\n",
    "    country_iso2 TEXT REFERENCES countries(iso2),\n",
    "    year TEXT,\n",
    "    company_id TEXT REFERENCES companies(id),\n",
    "    revenue_stream TEXT,\n",
    "    agency_id TEXT REFERENCES agencies(id),\n",
    "    levied_by_project TEXT,\n",
    "    reported_by_project TEXT,\n",
    "    project_id TEXT REFERENCES projects(id),\n",
    "    original_value REAL,\n",
    "    original_currency TEXT,\n",
    "    revenues_USD REAL,\n",
    "    payment_in_kind TEXT,\n",
    "    in_kind_volume TEXT,\n",
    "    in_kind_volume_unit TEXT,\n",
    "    comments TEXT,\n",
    "    gfs_code TEXT,\n",
    "    gfs_code2 TEXT,\n",
    "    gfs_level_1 TEXT,\n",
    "    gfs_level_2 TEXT,\n",
    "    gfs_level_3 TEXT,\n",
    "    gfs_level_4 TEXT,\n",
    "    gfs_level_5 TEXT,\n",
    "    gfs_level_6 TEXT\n",
    ");\n",
    "''')\n",
    "\n",
    "# Commit changes to the database\n",
    "conn.commit()"
   ]
  },
  {
   "attachments": {},
   "cell_type": "markdown",
   "id": "c6611cdf",
   "metadata": {},
   "source": [
    "We then insert the fake data for all the other tables into the tables we created"
   ]
  },
  {
   "cell_type": "code",
   "execution_count": 12,
   "id": "52340122-449c-46ac-a15c-bf4fe6f0b74e",
   "metadata": {},
   "outputs": [
    {
     "data": {
      "text/plain": [
       "50000"
      ]
     },
     "execution_count": 12,
     "metadata": {},
     "output_type": "execute_result"
    }
   ],
   "source": [
    "# Insert data into the companies table\n",
    "df_companies.to_sql('companies', conn, if_exists='append', index=False)\n",
    "\n",
    "# Insert data into the agencies table\n",
    "df_agencies.to_sql('agencies', conn, if_exists='append', index=False)\n",
    "\n",
    "# Insert data into the projects table\n",
    "df_projects.to_sql('projects', conn, if_exists='append', index=False)\n",
    "\n",
    "# Insert data into the project_companies table\n",
    "df_project_companies.to_sql('project_companies', conn, if_exists='append', index=False)\n",
    "\n",
    "# Insert revenue data into the revenue table\n",
    "df_revenue.to_sql('revenue', conn, if_exists='append', index=False)"
   ]
  },
  {
   "attachments": {},
   "cell_type": "markdown",
   "id": "a6c0893c",
   "metadata": {},
   "source": [
    "And lastly close the database"
   ]
  },
  {
   "cell_type": "code",
   "execution_count": 13,
   "id": "95805336-d9b7-4e9d-bc25-20b2ae794319",
   "metadata": {},
   "outputs": [],
   "source": [
    "# Close the connection to the database\n",
    "conn.close()"
   ]
  }
 ],
 "metadata": {
  "kernelspec": {
   "display_name": "Python 3 (ipykernel)",
   "language": "python",
   "name": "python3"
  },
  "language_info": {
   "codemirror_mode": {
    "name": "ipython",
    "version": 3
   },
   "file_extension": ".py",
   "mimetype": "text/x-python",
   "name": "python",
   "nbconvert_exporter": "python",
   "pygments_lexer": "ipython3",
   "version": "3.11.4"
  }
 },
 "nbformat": 4,
 "nbformat_minor": 5
}
